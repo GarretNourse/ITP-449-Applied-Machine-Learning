{
  "nbformat": 4,
  "nbformat_minor": 0,
  "metadata": {
    "colab": {
      "name": "HW2_Nourse_Garret.ipynb",
      "provenance": [],
      "collapsed_sections": []
    },
    "kernelspec": {
      "name": "python3",
      "display_name": "Python 3"
    }
  },
  "cells": [
    {
      "cell_type": "markdown",
      "metadata": {
        "id": "bNsIruOzI4iF"
      },
      "source": [
        "## **Homework 2**\n",
        "\n",
        "### Create a copy of the notebook to start answering the questions. Name your notebook in the format HW2_lastname_firstname.ipynb to facilitate the grading process. \n",
        "\n",
        "### Answer all the questions, test your code to ensure there are no errors and the results are as expected. Once you have answered all the questions, save the final copy, then go to File-> click on Download.ipynb. Once the local copy has been downloaded, submit your file on Blackboard under the corresponding assignment section. Also provide us a link to your notebook during submission. \n",
        "\n",
        "### **The due date of this homework is 02/12/2021 (Friday).**\n",
        "\n",
        "### Please ensure you follow all the steps mentioned in the homework.\n",
        "\n",
        "### All the questions have a sample input and output to help you understand the question.\n",
        "\n",
        "### You can submit your solutions any number of times until the deadline.\n"
      ]
    },
    {
      "cell_type": "markdown",
      "metadata": {
        "id": "U3Yz3s2uio1F"
      },
      "source": [
        "**Q1. Lets consider your data is like the below cell:**\n",
        "\n",
        "**Q1-1**: Write a program that create a dataframe from the data.\n",
        "\n",
        "**Q1-2:** Select people that are psychologist or teacher and their number of cars is greater than their family size.\n",
        "\n",
        "**Q1-3:** Select people who have at most 2 family members and at least 1 car.\n",
        "\n",
        "**Q1-4:** Write a code that get number of unique jobs in this dataset.\n",
        "\n",
        "\n",
        "\n"
      ]
    },
    {
      "cell_type": "code",
      "metadata": {
        "id": "yR8lcOtcjxXD"
      },
      "source": [
        "data = {\"name\": [\"Joseph\", \"Jacob\", \"Sam\", \"Jesee\", \"Ryan\", \"Lisa\", \"Lee\"],\n",
        "        \"job\": [\"teacher\", \"psychologist\", \"data scientist\", \"software developer\", \"psychologist\", \"psychologist\", \"teacher\"],\n",
        "        \"family_size\": [3, 2, 1, 4, 2, 3, 2],\n",
        "        \"num_cars\": [3, 1, 1, 2, 2, 4, 1]}"
      ],
      "execution_count": null,
      "outputs": []
    },
    {
      "cell_type": "code",
      "metadata": {
        "id": "Youi5qMaP34p",
        "colab": {
          "base_uri": "https://localhost:8080/"
        },
        "outputId": "391462f7-8773-4fef-fb4f-6f71662aad03"
      },
      "source": [
        "import pandas as pd\r\n",
        "\r\n",
        "data = {\"name\": [\"Joseph\", \"Jacob\", \"Sam\", \"Jesee\", \"Ryan\", \"Lisa\", \"Lee\"],\r\n",
        "        \"job\": [\"teacher\", \"psychologist\", \"data scientist\", \"software developer\", \"psychologist\", \"psychologist\", \"teacher\"],\r\n",
        "        \"family_size\": [3, 2, 1, 4, 2, 3, 2],\r\n",
        "        \"num_cars\": [3, 1, 1, 2, 2, 4, 1]}\r\n",
        "\r\n",
        "dataframe = pd.DataFrame(data)\r\n",
        "# alternatively, this also works:\r\n",
        "# dataframe = pd.DataFrame(data, columns=[\"job\", \"family_size\", \"num_cars\"], index=[data['name']])\r\n",
        "\r\n",
        "print(dataframe)\r\n",
        "# Select people that are psychologist or teacher and their number of cars is greater than their family size.\r\n",
        "dataframe[((dataframe['job'] == 'psychologist') | (dataframe[\"job\"] == \"teacher\")) & (dataframe[\"num_cars\"] > dataframe[\"family_size\"])]\r\n",
        "\r\n",
        "# Select people who have at most 2 family members and at least 1 car.\r\n",
        "dataframe[(dataframe['family_size'] <= 2) & (dataframe['num_cars'] >= 1)]\r\n",
        "\r\n",
        "# create initial variables\r\n",
        "dummy = dataframe.iloc[0]['job']\r\n",
        "# create a list to hold known values\r\n",
        "known = [dummy]\r\n",
        "# loop through and append known when encountering a new variable\r\n",
        "for i in range(len(dataframe['job'])):\r\n",
        "  if dataframe.iloc[i]['job'] not in known:\r\n",
        "    known.append(dataframe.iloc[i]['job'])\r\n",
        "\r\n",
        "print(\"\\nNumer of unique jobs: \" + str(len(known)))\r\n"
      ],
      "execution_count": null,
      "outputs": [
        {
          "output_type": "stream",
          "text": [
            "     name                 job  family_size  num_cars\n",
            "0  Joseph             teacher            3         3\n",
            "1   Jacob        psychologist            2         1\n",
            "2     Sam      data scientist            1         1\n",
            "3   Jesee  software developer            4         2\n",
            "4    Ryan        psychologist            2         2\n",
            "5    Lisa        psychologist            3         4\n",
            "6     Lee             teacher            2         1\n",
            "\n",
            "Numer of unique jobs: 4\n"
          ],
          "name": "stdout"
        }
      ]
    },
    {
      "cell_type": "markdown",
      "metadata": {
        "id": "Ow6nG8k4l91X"
      },
      "source": [
        "**Q2. Lets consider you have two series like the below cell. Compute the mean of weights of each fruit.**"
      ]
    },
    {
      "cell_type": "code",
      "metadata": {
        "id": "u-X_DoOzVLLB"
      },
      "source": [
        "import numpy as np\n",
        "fruit = pd.Series(np.random.choice(['apple', 'banana', 'carrot'], 10))\n",
        "weights = pd.Series(np.linspace(1, 10, 10))"
      ],
      "execution_count": null,
      "outputs": []
    },
    {
      "cell_type": "code",
      "metadata": {
        "id": "S419nzYnpU__",
        "colab": {
          "base_uri": "https://localhost:8080/"
        },
        "outputId": "c5ef46ee-e85f-4cc3-b443-53562d40dd39"
      },
      "source": [
        "import numpy as np\r\n",
        "fruit = pd.Series(np.random.choice(['apple', 'banana', 'carrot'], 10))\r\n",
        "weights = pd.Series(np.linspace(1, 10, 10))\r\n",
        "\r\n",
        "# create lists to store the weights of each fruit\r\n",
        "apples = []\r\n",
        "bananas = []\r\n",
        "carrots = []\r\n",
        "\r\n",
        "# create a dictionary of the fruits/weights\r\n",
        "dictionary = {'fruits': fruit, 'weights': weights}\r\n",
        "\r\n",
        "# create a dataframe of the fruits and their respective weights\r\n",
        "dataframe = pd.DataFrame(dictionary)\r\n",
        "print(dataframe)\r\n",
        "\r\n",
        "# traverse the dataframe and load the fruit weights into their respective lists\r\n",
        "for i in range(len(dataframe['weights'])):\r\n",
        "  if dataframe.iloc[i]['fruits'] == 'apple':\r\n",
        "    apples.append(dataframe.iloc[i]['weights'])\r\n",
        "  elif dataframe.iloc[i]['fruits'] == 'banana':\r\n",
        "    bananas.append(dataframe.iloc[i]['weights'])\r\n",
        "  elif dataframe.iloc[i]['fruits'] == 'carrot':\r\n",
        "    carrots.append(dataframe.iloc[i]['weights'])\r\n",
        "\r\n",
        "# the mean weights of each fruit are intuitively just the sum of the list\r\n",
        "# of their weights divided by the length of that list\r\n",
        "print('\\napple mean weight: ' + str(round((sum(apples)/len(apples)), 2)))\r\n",
        "print('banana mean weight: ' + str(round((sum(bananas)/len(bananas)), 2)))\r\n",
        "print('carrot mean weight: ' + str(round((sum(carrots)/len(carrots)), 2)))\r\n"
      ],
      "execution_count": null,
      "outputs": [
        {
          "output_type": "stream",
          "text": [
            "   fruits  weights\n",
            "0  carrot      1.0\n",
            "1  carrot      2.0\n",
            "2   apple      3.0\n",
            "3   apple      4.0\n",
            "4   apple      5.0\n",
            "5   apple      6.0\n",
            "6  banana      7.0\n",
            "7   apple      8.0\n",
            "8   apple      9.0\n",
            "9   apple     10.0\n",
            "\n",
            "apple mean weight: 6.43\n",
            "banana mean weight: 7.0\n",
            "carrot mean weight: 1.5\n"
          ],
          "name": "stdout"
        }
      ]
    },
    {
      "cell_type": "markdown",
      "metadata": {
        "id": "g4lKaPIhtVrt"
      },
      "source": [
        "**Q3. Consider the below course_name array:**\n",
        "\n",
        "**Q3-1**: Write a NumPy program to get the indices of the sorted elements of **course_name** array.\n",
        "\n",
        "**Q3-2:** Write numpy code to check whether each element of **course_name** array starts with \"P\".\n"
      ]
    },
    {
      "cell_type": "code",
      "metadata": {
        "id": "RUP_jp2KtVrx"
      },
      "source": [
        "import numpy as np\n",
        "course_name = np.array(['Python', 'JS', 'examples', 'PHP', 'html'])"
      ],
      "execution_count": null,
      "outputs": []
    },
    {
      "cell_type": "code",
      "metadata": {
        "id": "U1i27POxv-o_",
        "colab": {
          "base_uri": "https://localhost:8080/"
        },
        "outputId": "c213e688-7728-4571-c792-83c5e7c0c56c"
      },
      "source": [
        "import numpy as np\r\n",
        "course_name = np.array(['Python', 'JS', 'examples', 'PHP', 'html'])\r\n",
        "\r\n",
        "# create a dictionary to hold indices\r\n",
        "dictionary = {}\r\n",
        "# traverse course_name to append dictionary\r\n",
        "for i in range(len(course_name)):\r\n",
        "  dictionary[course_name[i]] = i \r\n",
        "\r\n",
        "# create the sorted array\r\n",
        "sorted = np.sort(course_name)\r\n",
        "# create the sorted indices array and trave\r\n",
        "sorted_indices = []\r\n",
        "# traverse sorted to (load into) sorted_indices using the dictionary\r\n",
        "for i in range(len(sorted)):\r\n",
        "  sorted_indices.append(dictionary[sorted[i]])\r\n",
        "\r\n",
        "print(\"The sorted elements are: \")\r\n",
        "print(sorted)\r\n",
        "print(\"Their indices are: \")\r\n",
        "print(sorted_indices)\r\n",
        "print('')\r\n",
        "\r\n",
        "# create boolean list\r\n",
        "boolean = []\r\n",
        "for i in range(len(course_name)):\r\n",
        "  boolean.append(False)\r\n",
        "# create dummy string\r\n",
        "string = ''\r\n",
        "# traverse through the array to check if each element starts with a p\r\n",
        "for i in range(len(course_name)):\r\n",
        "  string = course_name[i].lower()\r\n",
        "  if string[0][0] == 'p':\r\n",
        "    boolean[i] = True\r\n",
        "\r\n",
        "#print(\"boolean array to judge whether each element of course_name starts with a p:\")\r\n",
        "#print(boolean)\r\n",
        "\r\n",
        "# create dictionary to display it in a more succinct way\r\n",
        "dict2 = {}\r\n",
        "for i in range(len(course_name)):\r\n",
        "  if boolean[i] == True:\r\n",
        "    dict2[i] = 'yes'\r\n",
        "  else:\r\n",
        "    dict2[i] = 'no'\r\n",
        "\r\n",
        "print(\"Does the element at each index start with a p? \")\r\n",
        "print(dict2)"
      ],
      "execution_count": null,
      "outputs": [
        {
          "output_type": "stream",
          "text": [
            "The sorted elements are: \n",
            "['JS' 'PHP' 'Python' 'examples' 'html']\n",
            "Their indices are: \n",
            "[1, 3, 0, 2, 4]\n",
            "\n",
            "Does the element at each index start with a p? \n",
            "{0: 'yes', 1: 'no', 2: 'no', 3: 'yes', 4: 'no'}\n"
          ],
          "name": "stdout"
        }
      ]
    },
    {
      "cell_type": "markdown",
      "metadata": {
        "id": "sUFItNFOxwkz"
      },
      "source": [
        "**Q4. Consider the below student_id array:**\n",
        "\n",
        "**Q4-1:** Reverse the **student_id** array. Print both original and reversed array.\n",
        "\n",
        "**Q4-2:** Get the 3-largest values of **student_id** array."
      ]
    },
    {
      "cell_type": "code",
      "metadata": {
        "id": "Rl5qzEjFv0nw"
      },
      "source": [
        "import numpy as np\n",
        "student_id = np.array([1023, 5202, 6230, 1671, 1682, 5241, 4532])"
      ],
      "execution_count": null,
      "outputs": []
    },
    {
      "cell_type": "code",
      "metadata": {
        "id": "EetvHGrUxMCC",
        "colab": {
          "base_uri": "https://localhost:8080/"
        },
        "outputId": "b48d1666-84a2-4dec-d27e-fbe05eb77150"
      },
      "source": [
        "import numpy as np\r\n",
        "student_id = np.array([1023, 5202, 6230, 1671, 1682, 5241, 4532])\r\n",
        "\r\n",
        "# copy array into orginal\r\n",
        "original = student_id\r\n",
        "\r\n",
        "# use slicing to reverse student_id\r\n",
        "reversed = student_id[::-1]\r\n",
        "\r\n",
        "print(\"orignal array: \")\r\n",
        "print(original)\r\n",
        "print(\"reversed array: \")\r\n",
        "print(reversed)\r\n",
        "\r\n",
        "# initialize max\r\n",
        "max = student_id[0]\r\n",
        "index = 0\r\n",
        "# traverse the array to find a new max, then replace max if found\r\n",
        "for i in range(len(student_id)):\r\n",
        "  if student_id[i] > max:\r\n",
        "    max = student_id[i]\r\n",
        "    index = i\r\n",
        "# delete the max from the array \r\n",
        "student_id = np.delete(student_id, index)\r\n",
        "\r\n",
        "# repeat the process to find the second largest\r\n",
        "max2 = student_id[0]\r\n",
        "index = 0\r\n",
        "# traverse the array to find a new max, then replace max if found\r\n",
        "for i in range(len(student_id)):\r\n",
        "  if student_id[i] > max2:\r\n",
        "    max2 = student_id[i]\r\n",
        "    index = i\r\n",
        "# delete the max from the array \r\n",
        "student_id = np.delete(student_id, index)\r\n",
        "\r\n",
        "# repeat it again\r\n",
        "max3 = student_id[0]\r\n",
        "index = 0\r\n",
        "# traverse the array to find a new max, then replace max if found\r\n",
        "for i in range(len(student_id)):\r\n",
        "  if student_id[i] > max3:\r\n",
        "    max3 = student_id[i]\r\n",
        "    index = i\r\n",
        "\r\n",
        "print(\"\\nThe three largests values are (in order from highest to lowest): \" + str(max) + ', ' + str(max2) + ', ' + str(max3))\r\n"
      ],
      "execution_count": null,
      "outputs": [
        {
          "output_type": "stream",
          "text": [
            "orignal array: \n",
            "[1023 5202 6230 1671 1682 5241 4532]\n",
            "reversed array: \n",
            "[4532 5241 1682 1671 6230 5202 1023]\n",
            "\n",
            "The three largests values are (in order from highest to lowest): 6230, 5241, 5202\n"
          ],
          "name": "stdout"
        }
      ]
    },
    {
      "cell_type": "markdown",
      "metadata": {
        "id": "uKRyDVuW6B19"
      },
      "source": [
        "# **Q5: Write a numpy program to print sum of all the multiples of 3 or 5 below 100**"
      ]
    },
    {
      "cell_type": "code",
      "metadata": {
        "id": "ZIixq1gz6OK3",
        "colab": {
          "base_uri": "https://localhost:8080/"
        },
        "outputId": "21d11ac1-1f0e-4815-b971-6692063e8db5"
      },
      "source": [
        "import numpy as np         \n",
        "# initialize list to hold multiples\n",
        "multiples_3or5 = []\n",
        "\n",
        "# create array of 100 nums\n",
        "nums = np.arange(1, 100)\n",
        "\n",
        "# travers nums to check if each element is a multiple of 3 or 5\n",
        "for i in range(len(nums)):\n",
        "  # modulo operations will allow us to see if each element fits the bill\n",
        "  if (nums[i] % 3 == 0) or (nums[i] % 5 == 0):\n",
        "    multiples_3or5.append(nums[i])\n",
        "\n",
        "print(\"Sum of all multiples of 3 or 5 below 100 = \" + str(sum(multiples_3or5)))\n",
        "\n",
        "\n",
        "\n",
        "# Hint: you can use arange to start off"
      ],
      "execution_count": null,
      "outputs": [
        {
          "output_type": "stream",
          "text": [
            "Sum of all multiples of 3 or 5 below 100 = 2318\n"
          ],
          "name": "stdout"
        }
      ]
    },
    {
      "cell_type": "markdown",
      "metadata": {
        "id": "2CWJOsP24c34"
      },
      "source": [
        "**Q6. Consider the below array.**\n",
        "\n",
        "Q6.1. Write a code to swap column 1 with column 2.\n",
        "\n",
        "Q6.2. Write a code to swap row 0 with row 1."
      ]
    },
    {
      "cell_type": "code",
      "metadata": {
        "id": "3OG6X5Eg5KSM",
        "colab": {
          "base_uri": "https://localhost:8080/"
        },
        "outputId": "ddf8c3d7-fe11-4825-dce7-807aa72f1fbd"
      },
      "source": [
        "import numpy as np\n",
        "\n",
        "arr = np.arange(12).reshape(3,4)\n",
        "print(arr)"
      ],
      "execution_count": null,
      "outputs": [
        {
          "output_type": "stream",
          "text": [
            "[[ 0  1  2  3]\n",
            " [ 4  5  6  7]\n",
            " [ 8  9 10 11]]\n"
          ],
          "name": "stdout"
        }
      ]
    },
    {
      "cell_type": "code",
      "metadata": {
        "id": "Q-Q91DpO5YYW",
        "colab": {
          "base_uri": "https://localhost:8080/"
        },
        "outputId": "0089ee96-847d-40af-e31d-3040abaf9f57"
      },
      "source": [
        "import numpy as np\r\n",
        "\r\n",
        "arr = np.arange(12).reshape(3,4)\r\n",
        "print(arr)\r\n",
        "\r\n",
        "# swap the columns using slicing\r\n",
        "swaped = np.copy(arr)\r\n",
        "# : is the rows arg since we want all the rows, but \r\n",
        "# 0 and 1 are the col args since we want to switch them\r\n",
        "swaped[:, [1,2]] = swaped[:, [2,1]]\r\n",
        "print('Col 1 and 2 swaped: ')\r\n",
        "print(swaped)\r\n",
        "\r\n",
        "# swap the rows using slicing as well\r\n",
        "rows_swap = np.copy(arr)\r\n",
        "# same intution as above, this time varying the rows arg\r\n",
        "rows_swap[[0,1], :] = rows_swap[[1,0], :]\r\n",
        "print('Row 0 and 1 swaped: ')\r\n",
        "print(rows_swap)"
      ],
      "execution_count": null,
      "outputs": [
        {
          "output_type": "stream",
          "text": [
            "[[ 0  1  2  3]\n",
            " [ 4  5  6  7]\n",
            " [ 8  9 10 11]]\n",
            "Col 1 and 2 swaped: \n",
            "[[ 0  2  1  3]\n",
            " [ 4  6  5  7]\n",
            " [ 8 10  9 11]]\n",
            "Row 0 and 1 swaped: \n",
            "[[ 4  5  6  7]\n",
            " [ 0  1  2  3]\n",
            " [ 8  9 10 11]]\n"
          ],
          "name": "stdout"
        }
      ]
    }
  ]
}